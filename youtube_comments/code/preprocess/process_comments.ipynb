{
 "cells": [
  {
   "cell_type": "markdown",
   "metadata": {},
   "source": [
    "# YouTube Comments Preprocessing Notebook\n",
    "\n",
    "This notebook demonstrates how to preprocess YouTube comments data related to mask-wearing during the COVID-19 pandemic. It includes the following steps:\n",
    "1. Importing the dataset\n",
    "2. Removing URLs from comments\n",
    "3. Filtering comments based on specific keywords\n",
    "\n",
    "### Import Libraries"
   ]
  },
  {
   "cell_type": "code",
   "execution_count": null,
   "metadata": {},
   "outputs": [],
   "source": [
    "import os\n",
    "import pandas as pd\n",
    "import numpy as np\n",
    "import re\n",
    "import matplotlib.pyplot as plt\n",
    "import plotly.express as px\n",
    "import plotly.graph_objects as go\n",
    "from langdetect import detect"
   ]
  },
  {
   "cell_type": "markdown",
   "metadata": {},
   "source": [
    "### Define Helper Functions"
   ]
  },
  {
   "cell_type": "code",
   "execution_count": null,
   "metadata": {},
   "outputs": [],
   "source": [
    "def remove_urls(text):\n",
    "    return re.sub(r'http\\S+|www\\S+|https\\S+', '', text, flags=re.MULTILINE)\n",
    "\n",
    "def is_thai(text):\n",
    "    try:\n",
    "        return detect(text) == 'th'\n",
    "    except:\n",
    "        return False\n",
    "\n",
    "def contains_keywords(text, keywords):\n",
    "    return any(keyword in text for keyword in keywords)\n",
    "\n",
    "def show_yearly_distribution(df):\n",
    "    df['event_year'] = pd.to_datetime(df['event_year']).dt.year\n",
    "    yearly_counts = df['event_year'].value_counts().reset_index()\n",
    "    yearly_counts.columns = ['event_year', 'count']\n",
    "    yearly_counts = yearly_counts.sort_values(by='event_year')\n",
    "\n",
    "    fig = px.bar(yearly_counts, x='event_year', y='count', title='Yearly Distribution of Data Count',\n",
    "                 labels={'event_year': 'Year', 'count': 'Count'}, text='count')\n",
    "\n",
    "    fig.update_layout(\n",
    "        xaxis=dict(tickmode='linear'),\n",
    "        yaxis=dict(title='Count'),\n",
    "        title=dict(x=0.5)\n",
    "    )\n",
    "    fig.show()"
   ]
  },
  {
   "cell_type": "markdown",
   "metadata": {},
   "source": [
    "### Load Dataset"
   ]
  },
  {
   "cell_type": "code",
   "execution_count": null,
   "metadata": {},
   "outputs": [],
   "source": [
    "file_path = 'PATH_TO_YOUR_COMMENT_DATA'\n",
    "df = pd.read_csv(file_path)\n",
    "df['event_year'] = pd.to_datetime(df['event_year'])\n",
    "df.head()"
   ]
  },
  {
   "cell_type": "markdown",
   "metadata": {},
   "source": [
    "### Remove URLS from Comments"
   ]
  },
  {
   "cell_type": "code",
   "execution_count": null,
   "metadata": {},
   "outputs": [],
   "source": [
    "df['comment_text'] = df['comment_text'].apply(remove_urls)"
   ]
  },
  {
   "cell_type": "markdown",
   "metadata": {},
   "source": [
    "### Show Yearly Distribution"
   ]
  },
  {
   "cell_type": "code",
   "execution_count": null,
   "metadata": {},
   "outputs": [],
   "source": [
    "show_yearly_distribution(df)"
   ]
  },
  {
   "cell_type": "markdown",
   "metadata": {},
   "source": [
    "### Filter Comments Sample Code"
   ]
  },
  {
   "cell_type": "code",
   "execution_count": null,
   "metadata": {},
   "outputs": [],
   "source": [
    "us_mask_keywords = [\"wear\", \"mask\"]\n",
    "thai_mask_keywords = [\"ใส่\", \"มาส์ก\"]\n",
    "\n",
    "us_df = df[df['country'] == 'US']\n",
    "us_df = us_df[us_df['comment_text'].apply(lambda text: contains_keywords(text.lower(), us_mask_keywords))]\n",
    "us_df.reset_index(drop=True, inplace=True)\n",
    "us_df.head()\n",
    "\n",
    "thai_df = df[df['country'] == 'TH']\n",
    "thai_df = thai_df[thai_df['comment_text'].apply(is_thai)]\n",
    "thai_df = thai_df[thai_df['comment_text'].apply(lambda text: contains_keywords(text, thai_mask_keywords))]\n",
    "thai_df.reset_index(drop=True, inplace=True)\n",
    "thai_df.head()\n",
    "\n",
    "us_df.to_csv('filtered_mask_comments_us.csv', index=False)\n",
    "thai_df.to_csv('filtered_mask_comments_th.csv', index=False)"
   ]
  },
  {
   "cell_type": "markdown",
   "metadata": {},
   "source": [
    "### Alpaca Prompt Format"
   ]
  },
  {
   "cell_type": "code",
   "execution_count": null,
   "metadata": {},
   "outputs": [],
   "source": [
    "def reformat_dataset(df):\n",
    "    reformatted_data = []\n",
    "\n",
    "    for index, row in df.iterrows():\n",
    "        instruction = (\n",
    "            \"You are a helpful assistant tasked with analyzing the stances of tweet authors in tweets related to a specific topic. \"\n",
    "            \"Determine whether each tweet expresses a Favorable, Against, or Neutral stance.\"\n",
    "        )\n",
    "        input_text = (\n",
    "            f\"Identify the stance of tweet: `{row['comment_text']}` on topic of `face masks`\"\n",
    "        )\n",
    "        event_date = row['event_date']\n",
    "        news_publisher = row['news_publisher']\n",
    "        comment_text = row['comment_text']\n",
    "\n",
    "        reformatted_data.append([instruction, input_text, event_date, news_publisher, comment_text])\n",
    "\n",
    "    return pd.DataFrame(reformatted_data, columns=['instruction', 'input', 'event_date', 'news_publisher', 'comment_text'])"
   ]
  }
 ],
 "metadata": {
  "language_info": {
   "name": "python"
  }
 },
 "nbformat": 4,
 "nbformat_minor": 2
}
