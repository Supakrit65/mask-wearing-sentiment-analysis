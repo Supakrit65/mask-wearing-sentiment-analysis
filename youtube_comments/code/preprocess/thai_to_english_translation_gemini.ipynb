{
 "cells": [
  {
   "cell_type": "markdown",
   "metadata": {},
   "source": [
    "# Thai to English Language Translation with Vertex AI Gemini 1.5 Pro"
   ]
  },
  {
   "cell_type": "markdown",
   "metadata": {},
   "source": [
    "In this notebook, we'll utilize the Vertex AI Gemini 1.5 Pro model for translating Thai text to English. The Gemini 1.5 Pro is a powerful language model capable of understanding and generating content across various modalities, including text, audio, video, and images. Our focus here will be on text translation."
   ]
  },
  {
   "cell_type": "markdown",
   "metadata": {},
   "source": [
    "## Getting Started"
   ]
  },
  {
   "cell_type": "markdown",
   "metadata": {},
   "source": [
    "**Warning**, be aware of the rate limits which may restrict the number of requests per minute (RPM), making it challenging to label more than five rows at once. Refer to [Vertex AI quotas](https://cloud.google.com/vertex-ai/generative-ai/docs/quotas) for more details. Be sure to extend the quota rate limits. Your limits increase request should be approved in a moment. Ensure the environment is set up properly as per the [Vertex AI setup guide](https://cloud.google.com/vertex-ai/generative-ai/docs/start/quickstarts/quickstart-multimodal#set-up-your-environment)."
   ]
  },
  {
   "cell_type": "markdown",
   "metadata": {},
   "source": [
    "### Install Vertex AI SDK for Python\n",
    "To use Vertex AI, we need to install the Vertex AI SDK for Python."
   ]
  },
  {
   "cell_type": "code",
   "execution_count": null,
   "metadata": {},
   "outputs": [],
   "source": [
    "!pip3 install --upgrade --user --quiet google-cloud-aiplatform"
   ]
  },
  {
   "cell_type": "markdown",
   "metadata": {},
   "source": [
    "## Set Google Cloud Project Information and Initialize Vertex AI SDK"
   ]
  },
  {
   "cell_type": "code",
   "execution_count": 1,
   "metadata": {},
   "outputs": [],
   "source": [
    "import vertexai\n",
    "from vertexai import generative_models"
   ]
  },
  {
   "cell_type": "code",
   "execution_count": 2,
   "metadata": {},
   "outputs": [],
   "source": [
    "project_id = \"translation-428305\"\n",
    "vertexai.init(project=project_id, location='us-central1')"
   ]
  },
  {
   "cell_type": "markdown",
   "metadata": {},
   "source": [
    "## Load the Gemini 1.5 pro Model"
   ]
  },
  {
   "cell_type": "code",
   "execution_count": 3,
   "metadata": {},
   "outputs": [],
   "source": [
    "model = generative_models.GenerativeModel(model_name=\"gemini-1.5-pro\")"
   ]
  },
  {
   "cell_type": "markdown",
   "metadata": {},
   "source": [
    "## Define Safety Settings\n",
    "For language translation tasks, the source text might contain words considered harmful or inappropriate by Gemini, which can cause errors if not handled. Therefore, we will disable safety blocks."
   ]
  },
  {
   "cell_type": "code",
   "execution_count": 4,
   "metadata": {},
   "outputs": [],
   "source": [
    "safety_config = [\n",
    "        generative_models.SafetySetting(\n",
    "            category=generative_models.HarmCategory.HARM_CATEGORY_DANGEROUS_CONTENT,\n",
    "            threshold=generative_models.HarmBlockThreshold.BLOCK_NONE,\n",
    "        ),\n",
    "        generative_models.SafetySetting(\n",
    "            category=generative_models.HarmCategory.HARM_CATEGORY_HARASSMENT,\n",
    "            threshold=generative_models.HarmBlockThreshold.BLOCK_NONE,\n",
    "        ),\n",
    "        generative_models.SafetySetting(\n",
    "            category=generative_models.HarmCategory.HARM_CATEGORY_HATE_SPEECH,\n",
    "            threshold=generative_models.HarmBlockThreshold.BLOCK_NONE,\n",
    "        ),\n",
    "        generative_models.SafetySetting(\n",
    "            category=generative_models.HarmCategory.HARM_CATEGORY_SEXUALLY_EXPLICIT,\n",
    "            threshold=generative_models.HarmBlockThreshold.BLOCK_NONE,\n",
    "        ),\n",
    "    ]"
   ]
  },
  {
   "cell_type": "markdown",
   "metadata": {},
   "source": [
    "## Translation Function\n",
    "Define a function to translate text from Thai to English. Consider using a few-shot prompting style, referenced from [Google's Gemini API prompting strategie](https://ai.google.dev/gemini-api/docs/prompting-strategies), to ensure the model follows instructions straightforwardly, avoiding the need for tedious post-processing."
   ]
  },
  {
   "cell_type": "code",
   "execution_count": null,
   "metadata": {},
   "outputs": [],
   "source": [
    "from tqdm import tqdm\n",
    "import pandas as pd\n",
    "\n",
    "def translate_column(df, column_name, model):\n",
    "    translated_texts = []\n",
    "    successful_translation = 0\n",
    "\n",
    "    example_prompt = \"\"\"\n",
    "    Please translate the following Thai YouTube comments from Thai to English and only return the translated text:\n",
    "    [Thai Text]\n",
    "    ก็สมควรติดแหละ เหมือนไม่ได้กลัวเลยแมสไม่ใส่ไม่เว้นระยะ\n",
    "    [English Text]\n",
    "    It's no wonder they got infected. It's like they weren't scared at all, not wearing a mask and not social distancing.\n",
    "\n",
    "    [Thai Text]\n",
    "    {text}\n",
    "    [English Text]\n",
    "    \"\"\"\n",
    "    \n",
    "    for text in tqdm(df[column_name], desc=\"Translating\"):\n",
    "        if translated_texts and successful_translation % 100 == 0:\n",
    "            print(f\"Successful translation: {successful_translation}\")\n",
    "        try:\n",
    "            prompt = example_prompt.format(text=text)\n",
    "            translated_texts.append(model.generate_content(\n",
    "                prompt, safety_settings=safety_config).text.strip())\n",
    "            successful_translation += 1\n",
    "        except Exception as e:\n",
    "            raise e\n",
    "    print(f\"Successful translation: {successful_translation}\")\n",
    "    return pd.Series(translated_texts, index=df.index)"
   ]
  },
  {
   "cell_type": "markdown",
   "metadata": {},
   "source": [
    "## Load Dataset\n",
    "Load the datasets containing Thai comments."
   ]
  },
  {
   "cell_type": "code",
   "execution_count": 6,
   "metadata": {},
   "outputs": [],
   "source": [
    "import pandas as pd"
   ]
  },
  {
   "cell_type": "code",
   "execution_count": 7,
   "metadata": {},
   "outputs": [
    {
     "data": {
      "text/plain": [
       "((2129, 7), (231, 8))"
      ]
     },
     "execution_count": 7,
     "metadata": {},
     "output_type": "execute_result"
    }
   ],
   "source": [
    "thai_train_df = pd.read_csv('mask_train.csv')\n",
    "thai_test_df = pd.read_csv('mask_test.csv')\n",
    "thai_train_df.shape, thai_test_df.shape"
   ]
  },
  {
   "cell_type": "markdown",
   "metadata": {},
   "source": [
    "## Translate Dataframe\n",
    "Translate the 'comment_text' column in each datasets."
   ]
  },
  {
   "cell_type": "code",
   "execution_count": 9,
   "metadata": {},
   "outputs": [
    {
     "name": "stderr",
     "output_type": "stream",
     "text": [
      "Translating:  43%|████▎     | 100/231 [03:09<03:53,  1.78s/it]"
     ]
    },
    {
     "name": "stdout",
     "output_type": "stream",
     "text": [
      "Successful translation: 100\n"
     ]
    },
    {
     "name": "stderr",
     "output_type": "stream",
     "text": [
      "Translating:  87%|████████▋ | 200/231 [06:12<00:53,  1.71s/it]"
     ]
    },
    {
     "name": "stdout",
     "output_type": "stream",
     "text": [
      "Successful translation: 200\n"
     ]
    },
    {
     "name": "stderr",
     "output_type": "stream",
     "text": [
      "Translating: 100%|██████████| 231/231 [07:10<00:00,  1.86s/it]"
     ]
    },
    {
     "name": "stdout",
     "output_type": "stream",
     "text": [
      "Successful translation: 231\n"
     ]
    },
    {
     "name": "stderr",
     "output_type": "stream",
     "text": [
      "\n"
     ]
    }
   ],
   "source": [
    "thai_test_df['english_comment_text'] = translate_column(thai_test_df.copy(deep=True), \"comment_text\", model)"
   ]
  },
  {
   "cell_type": "code",
   "execution_count": 10,
   "metadata": {},
   "outputs": [
    {
     "data": {
      "text/html": [
       "<div>\n",
       "<style scoped>\n",
       "    .dataframe tbody tr th:only-of-type {\n",
       "        vertical-align: middle;\n",
       "    }\n",
       "\n",
       "    .dataframe tbody tr th {\n",
       "        vertical-align: top;\n",
       "    }\n",
       "\n",
       "    .dataframe thead th {\n",
       "        text-align: right;\n",
       "    }\n",
       "</style>\n",
       "<table border=\"1\" class=\"dataframe\">\n",
       "  <thead>\n",
       "    <tr style=\"text-align: right;\">\n",
       "      <th></th>\n",
       "      <th>comment_text</th>\n",
       "      <th>english_comment_text</th>\n",
       "    </tr>\n",
       "  </thead>\n",
       "  <tbody>\n",
       "    <tr>\n",
       "      <th>0</th>\n",
       "      <td>หลังสงกราณ์ถอดหน้ากากอนามัยได้หรอ แทบไม่น่าเชื...</td>\n",
       "      <td>Can we take off our masks after Songkran? I ca...</td>\n",
       "    </tr>\n",
       "    <tr>\n",
       "      <th>1</th>\n",
       "      <td>ตำรวจต้องกวดขันและจับด้วย. เมื่อวานนี้ผมเดินไป...</td>\n",
       "      <td>The police need to be stricter and arrest them...</td>\n",
       "    </tr>\n",
       "    <tr>\n",
       "      <th>2</th>\n",
       "      <td>บอกต่อกันหน่อยจร้า  ถ้ามีคนเอาหน้ากากอนามัยมาแ...</td>\n",
       "      <td>Tell each other, if someone offers you free ma...</td>\n",
       "    </tr>\n",
       "    <tr>\n",
       "      <th>3</th>\n",
       "      <td>ก็สมควรติดแหละ เหมือนไม่ได้กลัวเลยแมสไม่ใส่ไม่...</td>\n",
       "      <td>They deserve to get infected. They don't seem ...</td>\n",
       "    </tr>\n",
       "    <tr>\n",
       "      <th>4</th>\n",
       "      <td>แบบนี้ต้องถอดแมสออกให้ลุงเกเร แล้ว​เอาผ้าอนามั...</td>\n",
       "      <td>This person should take off their mask and giv...</td>\n",
       "    </tr>\n",
       "    <tr>\n",
       "      <th>...</th>\n",
       "      <td>...</td>\n",
       "      <td>...</td>\n",
       "    </tr>\n",
       "    <tr>\n",
       "      <th>226</th>\n",
       "      <td>รัฐบาล​โง่ๆ​ ก็แค่ปิดประเทศ​ ไม่ให้คนนอกเข้า​ ...</td>\n",
       "      <td>The stupid government just closes the country,...</td>\n",
       "    </tr>\n",
       "    <tr>\n",
       "      <th>227</th>\n",
       "      <td>วันนึงคนเป็นเกือบแสน ถ้าไม่ใส่แมสจะเท่าไหร่</td>\n",
       "      <td>Almost a hundred thousand cases a day, imagine...</td>\n",
       "    </tr>\n",
       "    <tr>\n",
       "      <th>228</th>\n",
       "      <td>ใส่แมสตลอดตอนออกจากบ้าน</td>\n",
       "      <td>I always wear a mask when I leave the house.</td>\n",
       "    </tr>\n",
       "    <tr>\n",
       "      <th>229</th>\n",
       "      <td>หน้ากากอนามัยผมใส่2ชั่นว่าจะใส่3ชั่นกว่าห้ายใจ...</td>\n",
       "      <td>I wear two masks. I was going to wear three, b...</td>\n",
       "    </tr>\n",
       "    <tr>\n",
       "      <th>230</th>\n",
       "      <td>ไม่แปลกที่ฝรั่งดั้งขอจะติดเชื้อเพราะเห็นมากับต...</td>\n",
       "      <td>It's not surprising that foreigners are gettin...</td>\n",
       "    </tr>\n",
       "  </tbody>\n",
       "</table>\n",
       "<p>231 rows × 2 columns</p>\n",
       "</div>"
      ],
      "text/plain": [
       "                                          comment_text  \\\n",
       "0    หลังสงกราณ์ถอดหน้ากากอนามัยได้หรอ แทบไม่น่าเชื...   \n",
       "1    ตำรวจต้องกวดขันและจับด้วย. เมื่อวานนี้ผมเดินไป...   \n",
       "2    บอกต่อกันหน่อยจร้า  ถ้ามีคนเอาหน้ากากอนามัยมาแ...   \n",
       "3    ก็สมควรติดแหละ เหมือนไม่ได้กลัวเลยแมสไม่ใส่ไม่...   \n",
       "4    แบบนี้ต้องถอดแมสออกให้ลุงเกเร แล้ว​เอาผ้าอนามั...   \n",
       "..                                                 ...   \n",
       "226  รัฐบาล​โง่ๆ​ ก็แค่ปิดประเทศ​ ไม่ให้คนนอกเข้า​ ...   \n",
       "227        วันนึงคนเป็นเกือบแสน ถ้าไม่ใส่แมสจะเท่าไหร่   \n",
       "228                            ใส่แมสตลอดตอนออกจากบ้าน   \n",
       "229  หน้ากากอนามัยผมใส่2ชั่นว่าจะใส่3ชั่นกว่าห้ายใจ...   \n",
       "230  ไม่แปลกที่ฝรั่งดั้งขอจะติดเชื้อเพราะเห็นมากับต...   \n",
       "\n",
       "                                  english_comment_text  \n",
       "0    Can we take off our masks after Songkran? I ca...  \n",
       "1    The police need to be stricter and arrest them...  \n",
       "2    Tell each other, if someone offers you free ma...  \n",
       "3    They deserve to get infected. They don't seem ...  \n",
       "4    This person should take off their mask and giv...  \n",
       "..                                                 ...  \n",
       "226  The stupid government just closes the country,...  \n",
       "227  Almost a hundred thousand cases a day, imagine...  \n",
       "228       I always wear a mask when I leave the house.  \n",
       "229  I wear two masks. I was going to wear three, b...  \n",
       "230  It's not surprising that foreigners are gettin...  \n",
       "\n",
       "[231 rows x 2 columns]"
      ]
     },
     "execution_count": 10,
     "metadata": {},
     "output_type": "execute_result"
    }
   ],
   "source": [
    "thai_test_df[['comment_text', 'english_comment_text']]"
   ]
  },
  {
   "cell_type": "code",
   "execution_count": 11,
   "metadata": {},
   "outputs": [],
   "source": [
    "thai_test_df.to_csv('mask_test_translated.csv', index=False)"
   ]
  },
  {
   "cell_type": "code",
   "execution_count": 12,
   "metadata": {},
   "outputs": [
    {
     "name": "stderr",
     "output_type": "stream",
     "text": [
      "Translating:   5%|▍         | 100/2129 [03:00<1:09:21,  2.05s/it]"
     ]
    },
    {
     "name": "stdout",
     "output_type": "stream",
     "text": [
      "Successful translation: 100\n"
     ]
    },
    {
     "name": "stderr",
     "output_type": "stream",
     "text": [
      "Translating:   9%|▉         | 200/2129 [06:04<56:45,  1.77s/it]  "
     ]
    },
    {
     "name": "stdout",
     "output_type": "stream",
     "text": [
      "Successful translation: 200\n"
     ]
    },
    {
     "name": "stderr",
     "output_type": "stream",
     "text": [
      "Translating:  14%|█▍        | 300/2129 [08:55<41:26,  1.36s/it]  "
     ]
    },
    {
     "name": "stdout",
     "output_type": "stream",
     "text": [
      "Successful translation: 300\n"
     ]
    },
    {
     "name": "stderr",
     "output_type": "stream",
     "text": [
      "Translating:  19%|█▉        | 400/2129 [11:45<49:15,  1.71s/it]  "
     ]
    },
    {
     "name": "stdout",
     "output_type": "stream",
     "text": [
      "Successful translation: 400\n"
     ]
    },
    {
     "name": "stderr",
     "output_type": "stream",
     "text": [
      "Translating:  23%|██▎       | 500/2129 [14:41<41:26,  1.53s/it]  "
     ]
    },
    {
     "name": "stdout",
     "output_type": "stream",
     "text": [
      "Successful translation: 500\n"
     ]
    },
    {
     "name": "stderr",
     "output_type": "stream",
     "text": [
      "Translating:  28%|██▊       | 600/2129 [18:07<58:32,  2.30s/it]  "
     ]
    },
    {
     "name": "stdout",
     "output_type": "stream",
     "text": [
      "Successful translation: 600\n"
     ]
    },
    {
     "name": "stderr",
     "output_type": "stream",
     "text": [
      "Translating:  33%|███▎      | 700/2129 [21:28<46:57,  1.97s/it]  "
     ]
    },
    {
     "name": "stdout",
     "output_type": "stream",
     "text": [
      "Successful translation: 700\n"
     ]
    },
    {
     "name": "stderr",
     "output_type": "stream",
     "text": [
      "Translating:  38%|███▊      | 800/2129 [24:35<45:24,  2.05s/it]"
     ]
    },
    {
     "name": "stdout",
     "output_type": "stream",
     "text": [
      "Successful translation: 800\n"
     ]
    },
    {
     "name": "stderr",
     "output_type": "stream",
     "text": [
      "Translating:  42%|████▏     | 900/2129 [27:48<31:32,  1.54s/it]"
     ]
    },
    {
     "name": "stdout",
     "output_type": "stream",
     "text": [
      "Successful translation: 900\n"
     ]
    },
    {
     "name": "stderr",
     "output_type": "stream",
     "text": [
      "Translating:  47%|████▋     | 1000/2129 [31:00<37:25,  1.99s/it]"
     ]
    },
    {
     "name": "stdout",
     "output_type": "stream",
     "text": [
      "Successful translation: 1000\n"
     ]
    },
    {
     "name": "stderr",
     "output_type": "stream",
     "text": [
      "Translating:  52%|█████▏    | 1100/2129 [34:17<33:08,  1.93s/it]"
     ]
    },
    {
     "name": "stdout",
     "output_type": "stream",
     "text": [
      "Successful translation: 1100\n"
     ]
    },
    {
     "name": "stderr",
     "output_type": "stream",
     "text": [
      "Translating:  56%|█████▋    | 1200/2129 [37:14<28:12,  1.82s/it]"
     ]
    },
    {
     "name": "stdout",
     "output_type": "stream",
     "text": [
      "Successful translation: 1200\n"
     ]
    },
    {
     "name": "stderr",
     "output_type": "stream",
     "text": [
      "Translating:  61%|██████    | 1300/2129 [40:33<26:21,  1.91s/it]"
     ]
    },
    {
     "name": "stdout",
     "output_type": "stream",
     "text": [
      "Successful translation: 1300\n"
     ]
    },
    {
     "name": "stderr",
     "output_type": "stream",
     "text": [
      "Translating:  66%|██████▌   | 1400/2129 [43:34<22:39,  1.87s/it]"
     ]
    },
    {
     "name": "stdout",
     "output_type": "stream",
     "text": [
      "Successful translation: 1400\n"
     ]
    },
    {
     "name": "stderr",
     "output_type": "stream",
     "text": [
      "Translating:  70%|███████   | 1500/2129 [46:44<18:05,  1.73s/it]"
     ]
    },
    {
     "name": "stdout",
     "output_type": "stream",
     "text": [
      "Successful translation: 1500\n"
     ]
    },
    {
     "name": "stderr",
     "output_type": "stream",
     "text": [
      "Translating:  75%|███████▌  | 1600/2129 [50:04<20:32,  2.33s/it]"
     ]
    },
    {
     "name": "stdout",
     "output_type": "stream",
     "text": [
      "Successful translation: 1600\n"
     ]
    },
    {
     "name": "stderr",
     "output_type": "stream",
     "text": [
      "Translating:  80%|███████▉  | 1700/2129 [53:09<12:43,  1.78s/it]"
     ]
    },
    {
     "name": "stdout",
     "output_type": "stream",
     "text": [
      "Successful translation: 1700\n"
     ]
    },
    {
     "name": "stderr",
     "output_type": "stream",
     "text": [
      "Translating:  85%|████████▍ | 1800/2129 [56:21<10:35,  1.93s/it]"
     ]
    },
    {
     "name": "stdout",
     "output_type": "stream",
     "text": [
      "Successful translation: 1800\n"
     ]
    },
    {
     "name": "stderr",
     "output_type": "stream",
     "text": [
      "Translating:  89%|████████▉ | 1900/2129 [59:25<05:37,  1.47s/it]"
     ]
    },
    {
     "name": "stdout",
     "output_type": "stream",
     "text": [
      "Successful translation: 1900\n"
     ]
    },
    {
     "name": "stderr",
     "output_type": "stream",
     "text": [
      "Translating:  94%|█████████▍| 2000/2129 [1:02:25<04:01,  1.87s/it]"
     ]
    },
    {
     "name": "stdout",
     "output_type": "stream",
     "text": [
      "Successful translation: 2000\n"
     ]
    },
    {
     "name": "stderr",
     "output_type": "stream",
     "text": [
      "Translating:  99%|█████████▊| 2100/2129 [1:05:17<00:42,  1.47s/it]"
     ]
    },
    {
     "name": "stdout",
     "output_type": "stream",
     "text": [
      "Successful translation: 2100\n"
     ]
    },
    {
     "name": "stderr",
     "output_type": "stream",
     "text": [
      "Translating: 100%|██████████| 2129/2129 [1:06:11<00:00,  1.87s/it]"
     ]
    },
    {
     "name": "stdout",
     "output_type": "stream",
     "text": [
      "Successful translation: 2129\n"
     ]
    },
    {
     "name": "stderr",
     "output_type": "stream",
     "text": [
      "\n"
     ]
    }
   ],
   "source": [
    "thai_train_df['english_comment_text'] = translate_column(thai_train_df.copy(deep=True), \"comment_text\", model)"
   ]
  },
  {
   "cell_type": "code",
   "execution_count": 13,
   "metadata": {},
   "outputs": [
    {
     "data": {
      "text/html": [
       "<div>\n",
       "<style scoped>\n",
       "    .dataframe tbody tr th:only-of-type {\n",
       "        vertical-align: middle;\n",
       "    }\n",
       "\n",
       "    .dataframe tbody tr th {\n",
       "        vertical-align: top;\n",
       "    }\n",
       "\n",
       "    .dataframe thead th {\n",
       "        text-align: right;\n",
       "    }\n",
       "</style>\n",
       "<table border=\"1\" class=\"dataframe\">\n",
       "  <thead>\n",
       "    <tr style=\"text-align: right;\">\n",
       "      <th></th>\n",
       "      <th>comment_text</th>\n",
       "      <th>english_comment_text</th>\n",
       "    </tr>\n",
       "  </thead>\n",
       "  <tbody>\n",
       "    <tr>\n",
       "      <th>0</th>\n",
       "      <td>มันเป็นคำแก้ตัว หน้ากากอนามัยก็ไม่ใส่ยังจะมาทำ...</td>\n",
       "      <td>It's an excuse. You don't even wear a mask and...</td>\n",
       "    </tr>\n",
       "    <tr>\n",
       "      <th>1</th>\n",
       "      <td>เห็นใจทั้ง 2 ฝ่าย แต่ฝั่งผู้หญิงควรควบคุมอารมณ...</td>\n",
       "      <td>I sympathize with both sides, but the woman sh...</td>\n",
       "    </tr>\n",
       "    <tr>\n",
       "      <th>2</th>\n",
       "      <td>แค่ไม่เอาหน้ากาก ไม่ใส่หน้า ถึงกับจะไล่ออกจากป...</td>\n",
       "      <td>Just because they didn't put on a mask, didn't...</td>\n",
       "    </tr>\n",
       "    <tr>\n",
       "      <th>3</th>\n",
       "      <td>ขนาดใส่แมสยังติดถ้าถอดออกมาแล้ว......ช่างคิดดี...</td>\n",
       "      <td>Even with a mask on, you can still get infecte...</td>\n",
       "    </tr>\n",
       "    <tr>\n",
       "      <th>4</th>\n",
       "      <td>ตอนนี้ไม่ถอดหน้ากากอนามัยเด็ดขาดเพราะไม่มั่นใจ</td>\n",
       "      <td>I will definitely not take off my mask now bec...</td>\n",
       "    </tr>\n",
       "    <tr>\n",
       "      <th>...</th>\n",
       "      <td>...</td>\n",
       "      <td>...</td>\n",
       "    </tr>\n",
       "    <tr>\n",
       "      <th>2124</th>\n",
       "      <td>ถอดแมสเดี๋ยว​ก็ติดนุบนับหลอก​\\n\\nทำไรกานจ๊ะ</td>\n",
       "      <td>Take your mask off and you'll get infected, do...</td>\n",
       "    </tr>\n",
       "    <tr>\n",
       "      <th>2125</th>\n",
       "      <td>ฉีด 5 เข็มก็ยังติด ใส่แมสและสเปรย์แอลกอฮอลช่วย...</td>\n",
       "      <td>Even with 5 doses, you can still get infected....</td>\n",
       "    </tr>\n",
       "    <tr>\n",
       "      <th>2126</th>\n",
       "      <td>เสรีภาพไม่ฉีดวัคซีนก็ได้ แต่คนไม่ฉีดวัคซีนมั่น...</td>\n",
       "      <td>You have the freedom not to get vaccinated, bu...</td>\n",
       "    </tr>\n",
       "    <tr>\n",
       "      <th>2127</th>\n",
       "      <td>ไม่ฉีดก็ไม่ต้องใส่แมสจะได้เสรี</td>\n",
       "      <td>If you don't get vaccinated, you shouldn't hav...</td>\n",
       "    </tr>\n",
       "    <tr>\n",
       "      <th>2128</th>\n",
       "      <td>ส่วนตัวเราไม่ถอด รู้ว่าติดแล้วไม่ตาย แต่ไม่เหม...</td>\n",
       "      <td>Personally, I don't take my mask off. I know I...</td>\n",
       "    </tr>\n",
       "  </tbody>\n",
       "</table>\n",
       "<p>2129 rows × 2 columns</p>\n",
       "</div>"
      ],
      "text/plain": [
       "                                           comment_text  \\\n",
       "0     มันเป็นคำแก้ตัว หน้ากากอนามัยก็ไม่ใส่ยังจะมาทำ...   \n",
       "1     เห็นใจทั้ง 2 ฝ่าย แต่ฝั่งผู้หญิงควรควบคุมอารมณ...   \n",
       "2     แค่ไม่เอาหน้ากาก ไม่ใส่หน้า ถึงกับจะไล่ออกจากป...   \n",
       "3     ขนาดใส่แมสยังติดถ้าถอดออกมาแล้ว......ช่างคิดดี...   \n",
       "4        ตอนนี้ไม่ถอดหน้ากากอนามัยเด็ดขาดเพราะไม่มั่นใจ   \n",
       "...                                                 ...   \n",
       "2124        ถอดแมสเดี๋ยว​ก็ติดนุบนับหลอก​\\n\\nทำไรกานจ๊ะ   \n",
       "2125  ฉีด 5 เข็มก็ยังติด ใส่แมสและสเปรย์แอลกอฮอลช่วย...   \n",
       "2126  เสรีภาพไม่ฉีดวัคซีนก็ได้ แต่คนไม่ฉีดวัคซีนมั่น...   \n",
       "2127                     ไม่ฉีดก็ไม่ต้องใส่แมสจะได้เสรี   \n",
       "2128  ส่วนตัวเราไม่ถอด รู้ว่าติดแล้วไม่ตาย แต่ไม่เหม...   \n",
       "\n",
       "                                   english_comment_text  \n",
       "0     It's an excuse. You don't even wear a mask and...  \n",
       "1     I sympathize with both sides, but the woman sh...  \n",
       "2     Just because they didn't put on a mask, didn't...  \n",
       "3     Even with a mask on, you can still get infecte...  \n",
       "4     I will definitely not take off my mask now bec...  \n",
       "...                                                 ...  \n",
       "2124  Take your mask off and you'll get infected, do...  \n",
       "2125  Even with 5 doses, you can still get infected....  \n",
       "2126  You have the freedom not to get vaccinated, bu...  \n",
       "2127  If you don't get vaccinated, you shouldn't hav...  \n",
       "2128  Personally, I don't take my mask off. I know I...  \n",
       "\n",
       "[2129 rows x 2 columns]"
      ]
     },
     "execution_count": 13,
     "metadata": {},
     "output_type": "execute_result"
    }
   ],
   "source": [
    "thai_train_df[['comment_text', 'english_comment_text']]"
   ]
  },
  {
   "cell_type": "code",
   "execution_count": 14,
   "metadata": {},
   "outputs": [],
   "source": [
    "thai_train_df.to_csv('mask_train_translated.csv', index=False)"
   ]
  }
 ],
 "metadata": {
  "kernelspec": {
   "display_name": "socialcomputing",
   "language": "python",
   "name": "python3"
  },
  "language_info": {
   "codemirror_mode": {
    "name": "ipython",
    "version": 3
   },
   "file_extension": ".py",
   "mimetype": "text/x-python",
   "name": "python",
   "nbconvert_exporter": "python",
   "pygments_lexer": "ipython3",
   "version": "3.12.3"
  }
 },
 "nbformat": 4,
 "nbformat_minor": 2
}
